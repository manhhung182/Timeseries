{
 "cells": [
  {
   "cell_type": "markdown",
   "id": "513429a3",
   "metadata": {},
   "source": [
    "#### Kiểm định ADF cho dữ liệu tỉ giá Eur/Usd"
   ]
  },
  {
   "cell_type": "code",
   "execution_count": 1,
   "id": "c0e24152",
   "metadata": {},
   "outputs": [],
   "source": [
    "import numpy as np\n",
    "import pandas as pd\n",
    "import matplotlib.pyplot as plt\n",
    "from statsmodels.tsa.arima.model import ARIMA"
   ]
  },
  {
   "cell_type": "code",
   "execution_count": 2,
   "id": "4aad19e8",
   "metadata": {},
   "outputs": [
    {
     "data": {
      "text/html": [
       "<div>\n",
       "<style scoped>\n",
       "    .dataframe tbody tr th:only-of-type {\n",
       "        vertical-align: middle;\n",
       "    }\n",
       "\n",
       "    .dataframe tbody tr th {\n",
       "        vertical-align: top;\n",
       "    }\n",
       "\n",
       "    .dataframe thead th {\n",
       "        text-align: right;\n",
       "    }\n",
       "</style>\n",
       "<table border=\"1\" class=\"dataframe\">\n",
       "  <thead>\n",
       "    <tr style=\"text-align: right;\">\n",
       "      <th></th>\n",
       "      <th>Close</th>\n",
       "    </tr>\n",
       "    <tr>\n",
       "      <th>Date</th>\n",
       "      <th></th>\n",
       "    </tr>\n",
       "  </thead>\n",
       "  <tbody>\n",
       "    <tr>\n",
       "      <th>2015-04-21</th>\n",
       "      <td>1.0736</td>\n",
       "    </tr>\n",
       "    <tr>\n",
       "      <th>2015-04-22</th>\n",
       "      <td>1.0726</td>\n",
       "    </tr>\n",
       "    <tr>\n",
       "      <th>2015-04-23</th>\n",
       "      <td>1.0827</td>\n",
       "    </tr>\n",
       "    <tr>\n",
       "      <th>2015-04-24</th>\n",
       "      <td>1.0874</td>\n",
       "    </tr>\n",
       "    <tr>\n",
       "      <th>2015-04-27</th>\n",
       "      <td>1.0888</td>\n",
       "    </tr>\n",
       "  </tbody>\n",
       "</table>\n",
       "</div>"
      ],
      "text/plain": [
       "             Close\n",
       "Date              \n",
       "2015-04-21  1.0736\n",
       "2015-04-22  1.0726\n",
       "2015-04-23  1.0827\n",
       "2015-04-24  1.0874\n",
       "2015-04-27  1.0888"
      ]
     },
     "execution_count": 2,
     "metadata": {},
     "output_type": "execute_result"
    }
   ],
   "source": [
    "# Tải dữ liệu từ file\n",
    "exrate = pd.read_csv('../Data/eurusd.csv', parse_dates = ['Date'],\n",
    "                     infer_datetime_format=True)\n",
    "exrate = exrate[['Date','Close']].set_index('Date')\n",
    "exrate.head()"
   ]
  },
  {
   "cell_type": "code",
   "execution_count": 3,
   "id": "87c74ca8",
   "metadata": {},
   "outputs": [
    {
     "data": {
      "text/html": [
       "<table class=\"simpletable\">\n",
       "<caption>SARIMAX Results</caption>\n",
       "<tr>\n",
       "  <th>Dep. Variable:</th>           <td>y</td>        <th>  No. Observations:  </th>    <td>1589</td>   \n",
       "</tr>\n",
       "<tr>\n",
       "  <th>Model:</th>            <td>ARIMA(1, 0, 0)</td>  <th>  Log Likelihood     </th>  <td>6031.624</td> \n",
       "</tr>\n",
       "<tr>\n",
       "  <th>Date:</th>            <td>Thu, 14 Dec 2023</td> <th>  AIC                </th> <td>-12057.249</td>\n",
       "</tr>\n",
       "<tr>\n",
       "  <th>Time:</th>                <td>23:06:09</td>     <th>  BIC                </th> <td>-12041.136</td>\n",
       "</tr>\n",
       "<tr>\n",
       "  <th>Sample:</th>                  <td>0</td>        <th>  HQIC               </th> <td>-12051.263</td>\n",
       "</tr>\n",
       "<tr>\n",
       "  <th></th>                      <td> - 1589</td>     <th>                     </th>      <td> </td>    \n",
       "</tr>\n",
       "<tr>\n",
       "  <th>Covariance Type:</th>        <td>opg</td>       <th>                     </th>      <td> </td>    \n",
       "</tr>\n",
       "</table>\n",
       "<table class=\"simpletable\">\n",
       "<tr>\n",
       "     <td></td>       <th>coef</th>     <th>std err</th>      <th>z</th>      <th>P>|z|</th>  <th>[0.025</th>    <th>0.975]</th>  \n",
       "</tr>\n",
       "<tr>\n",
       "  <th>const</th>  <td>    1.1368</td> <td>    0.018</td> <td>   62.439</td> <td> 0.000</td> <td>    1.101</td> <td>    1.173</td>\n",
       "</tr>\n",
       "<tr>\n",
       "  <th>ar.L1</th>  <td>    0.9934</td> <td>    0.003</td> <td>  328.315</td> <td> 0.000</td> <td>    0.988</td> <td>    0.999</td>\n",
       "</tr>\n",
       "<tr>\n",
       "  <th>sigma2</th> <td> 2.945e-05</td> <td> 7.34e-07</td> <td>   40.107</td> <td> 0.000</td> <td>  2.8e-05</td> <td> 3.09e-05</td>\n",
       "</tr>\n",
       "</table>\n",
       "<table class=\"simpletable\">\n",
       "<tr>\n",
       "  <th>Ljung-Box (L1) (Q):</th>     <td>0.76</td> <th>  Jarque-Bera (JB):  </th> <td>312.66</td>\n",
       "</tr>\n",
       "<tr>\n",
       "  <th>Prob(Q):</th>                <td>0.38</td> <th>  Prob(JB):          </th>  <td>0.00</td> \n",
       "</tr>\n",
       "<tr>\n",
       "  <th>Heteroskedasticity (H):</th> <td>0.50</td> <th>  Skew:              </th>  <td>0.08</td> \n",
       "</tr>\n",
       "<tr>\n",
       "  <th>Prob(H) (two-sided):</th>    <td>0.00</td> <th>  Kurtosis:          </th>  <td>5.17</td> \n",
       "</tr>\n",
       "</table><br/><br/>Warnings:<br/>[1] Covariance matrix calculated using the outer product of gradients (complex-step)."
      ],
      "text/plain": [
       "<class 'statsmodels.iolib.summary.Summary'>\n",
       "\"\"\"\n",
       "                               SARIMAX Results                                \n",
       "==============================================================================\n",
       "Dep. Variable:                      y   No. Observations:                 1589\n",
       "Model:                 ARIMA(1, 0, 0)   Log Likelihood                6031.624\n",
       "Date:                Thu, 14 Dec 2023   AIC                         -12057.249\n",
       "Time:                        23:06:09   BIC                         -12041.136\n",
       "Sample:                             0   HQIC                        -12051.263\n",
       "                               - 1589                                         \n",
       "Covariance Type:                  opg                                         \n",
       "==============================================================================\n",
       "                 coef    std err          z      P>|z|      [0.025      0.975]\n",
       "------------------------------------------------------------------------------\n",
       "const          1.1368      0.018     62.439      0.000       1.101       1.173\n",
       "ar.L1          0.9934      0.003    328.315      0.000       0.988       0.999\n",
       "sigma2      2.945e-05   7.34e-07     40.107      0.000     2.8e-05    3.09e-05\n",
       "===================================================================================\n",
       "Ljung-Box (L1) (Q):                   0.76   Jarque-Bera (JB):               312.66\n",
       "Prob(Q):                              0.38   Prob(JB):                         0.00\n",
       "Heteroskedasticity (H):               0.50   Skew:                             0.08\n",
       "Prob(H) (two-sided):                  0.00   Kurtosis:                         5.17\n",
       "===================================================================================\n",
       "\n",
       "Warnings:\n",
       "[1] Covariance matrix calculated using the outer product of gradients (complex-step).\n",
       "\"\"\""
      ]
     },
     "execution_count": 3,
     "metadata": {},
     "output_type": "execute_result"
    }
   ],
   "source": [
    "# Ước lượng mô hình AR(1) dựa trên dữ liệu tỉ giá\n",
    "model = ARIMA(exrate.values, order=(1,0,0))\n",
    "result = model.fit()\n",
    "result.summary()"
   ]
  },
  {
   "cell_type": "code",
   "execution_count": 4,
   "id": "1b86f24c",
   "metadata": {},
   "outputs": [
    {
     "name": "stdout",
     "output_type": "stream",
     "text": [
      "test-statistics: -2.19673795739395\n",
      "p-value: 0.20743151978864938\n",
      "critical values:\n",
      "\t1%: -3.434\n",
      "\t5%: -2.863\n",
      "\t10%: -2.568\n"
     ]
    }
   ],
   "source": [
    "# Kiểm định ADF\n",
    "from statsmodels.tsa.stattools import adfuller\n",
    "\n",
    "adf = adfuller(exrate, autolag='AIC')\n",
    "print('test-statistics:', adf[0])\n",
    "print('p-value:', adf[1])\n",
    "print('critical values:')\n",
    "for key, value in adf[4].items():\n",
    "    print('\\t%s: %.3f' % (key, value))"
   ]
  }
 ],
 "metadata": {
  "kernelspec": {
   "display_name": "Python 3",
   "language": "python",
   "name": "python3"
  },
  "language_info": {
   "codemirror_mode": {
    "name": "ipython",
    "version": 3
   },
   "file_extension": ".py",
   "mimetype": "text/x-python",
   "name": "python",
   "nbconvert_exporter": "python",
   "pygments_lexer": "ipython3",
   "version": "3.8.8"
  }
 },
 "nbformat": 4,
 "nbformat_minor": 5
}
