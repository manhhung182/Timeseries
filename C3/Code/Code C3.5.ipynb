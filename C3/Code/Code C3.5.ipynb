{
 "cells": [
  {
   "cell_type": "markdown",
   "id": "a766796c",
   "metadata": {},
   "source": [
    "#### Dự báo nhiệt độ của quá trình hoá học"
   ]
  },
  {
   "cell_type": "code",
   "execution_count": 1,
   "id": "c0e24152",
   "metadata": {},
   "outputs": [],
   "source": [
    "import numpy as np\n",
    "import pandas as pd\n",
    "import matplotlib.pyplot as plt"
   ]
  },
  {
   "cell_type": "code",
   "execution_count": 2,
   "id": "b0179306",
   "metadata": {},
   "outputs": [],
   "source": [
    "from statsmodels.tsa.arima.model import ARIMA\n",
    "from statsmodels.graphics.tsaplots import plot_predict"
   ]
  },
  {
   "cell_type": "code",
   "execution_count": 3,
   "id": "7e7a0b15",
   "metadata": {},
   "outputs": [
    {
     "data": {
      "text/html": [
       "<div>\n",
       "<style scoped>\n",
       "    .dataframe tbody tr th:only-of-type {\n",
       "        vertical-align: middle;\n",
       "    }\n",
       "\n",
       "    .dataframe tbody tr th {\n",
       "        vertical-align: top;\n",
       "    }\n",
       "\n",
       "    .dataframe thead th {\n",
       "        text-align: right;\n",
       "    }\n",
       "</style>\n",
       "<table border=\"1\" class=\"dataframe\">\n",
       "  <thead>\n",
       "    <tr style=\"text-align: right;\">\n",
       "      <th></th>\n",
       "      <th>Temperature readings</th>\n",
       "    </tr>\n",
       "  </thead>\n",
       "  <tbody>\n",
       "    <tr>\n",
       "      <th>0</th>\n",
       "      <td>26.6</td>\n",
       "    </tr>\n",
       "    <tr>\n",
       "      <th>1</th>\n",
       "      <td>27.0</td>\n",
       "    </tr>\n",
       "    <tr>\n",
       "      <th>2</th>\n",
       "      <td>27.1</td>\n",
       "    </tr>\n",
       "    <tr>\n",
       "      <th>3</th>\n",
       "      <td>27.1</td>\n",
       "    </tr>\n",
       "    <tr>\n",
       "      <th>4</th>\n",
       "      <td>27.1</td>\n",
       "    </tr>\n",
       "  </tbody>\n",
       "</table>\n",
       "</div>"
      ],
      "text/plain": [
       "   Temperature readings\n",
       "0                  26.6\n",
       "1                  27.0\n",
       "2                  27.1\n",
       "3                  27.1\n",
       "4                  27.1"
      ]
     },
     "execution_count": 3,
     "metadata": {},
     "output_type": "execute_result"
    }
   ],
   "source": [
    "# Tải dữ liệu nhiệt độ\n",
    "temp = pd.read_excel('../Data/chemical process.xlsx')\n",
    "temp.head()"
   ]
  },
  {
   "cell_type": "code",
   "execution_count": 4,
   "id": "87065af1",
   "metadata": {},
   "outputs": [
    {
     "data": {
      "text/html": [
       "<table class=\"simpletable\">\n",
       "<caption>SARIMAX Results</caption>\n",
       "<tr>\n",
       "  <th>Dep. Variable:</th>   <td>Temperature readings</td> <th>  No. Observations:  </th>    <td>226</td>  \n",
       "</tr>\n",
       "<tr>\n",
       "  <th>Model:</th>              <td>ARIMA(1, 1, 0)</td>    <th>  Log Likelihood     </th>  <td>131.668</td>\n",
       "</tr>\n",
       "<tr>\n",
       "  <th>Date:</th>              <td>Thu, 14 Dec 2023</td>   <th>  AIC                </th> <td>-259.336</td>\n",
       "</tr>\n",
       "<tr>\n",
       "  <th>Time:</th>                  <td>23:09:56</td>       <th>  BIC                </th> <td>-252.504</td>\n",
       "</tr>\n",
       "<tr>\n",
       "  <th>Sample:</th>                    <td>0</td>          <th>  HQIC               </th> <td>-256.579</td>\n",
       "</tr>\n",
       "<tr>\n",
       "  <th></th>                        <td> - 226</td>        <th>                     </th>     <td> </td>   \n",
       "</tr>\n",
       "<tr>\n",
       "  <th>Covariance Type:</th>          <td>opg</td>         <th>                     </th>     <td> </td>   \n",
       "</tr>\n",
       "</table>\n",
       "<table class=\"simpletable\">\n",
       "<tr>\n",
       "     <td></td>       <th>coef</th>     <th>std err</th>      <th>z</th>      <th>P>|z|</th>  <th>[0.025</th>    <th>0.975]</th>  \n",
       "</tr>\n",
       "<tr>\n",
       "  <th>ar.L1</th>  <td>    0.8202</td> <td>    0.024</td> <td>   34.658</td> <td> 0.000</td> <td>    0.774</td> <td>    0.867</td>\n",
       "</tr>\n",
       "<tr>\n",
       "  <th>sigma2</th> <td>    0.0181</td> <td>    0.001</td> <td>   19.381</td> <td> 0.000</td> <td>    0.016</td> <td>    0.020</td>\n",
       "</tr>\n",
       "</table>\n",
       "<table class=\"simpletable\">\n",
       "<tr>\n",
       "  <th>Ljung-Box (L1) (Q):</th>     <td>0.02</td> <th>  Jarque-Bera (JB):  </th> <td>233.10</td>\n",
       "</tr>\n",
       "<tr>\n",
       "  <th>Prob(Q):</th>                <td>0.89</td> <th>  Prob(JB):          </th>  <td>0.00</td> \n",
       "</tr>\n",
       "<tr>\n",
       "  <th>Heteroskedasticity (H):</th> <td>0.37</td> <th>  Skew:              </th>  <td>0.59</td> \n",
       "</tr>\n",
       "<tr>\n",
       "  <th>Prob(H) (two-sided):</th>    <td>0.00</td> <th>  Kurtosis:          </th>  <td>7.84</td> \n",
       "</tr>\n",
       "</table><br/><br/>Warnings:<br/>[1] Covariance matrix calculated using the outer product of gradients (complex-step)."
      ],
      "text/plain": [
       "<class 'statsmodels.iolib.summary.Summary'>\n",
       "\"\"\"\n",
       "                                SARIMAX Results                                 \n",
       "================================================================================\n",
       "Dep. Variable:     Temperature readings   No. Observations:                  226\n",
       "Model:                   ARIMA(1, 1, 0)   Log Likelihood                 131.668\n",
       "Date:                  Thu, 14 Dec 2023   AIC                           -259.336\n",
       "Time:                          23:09:56   BIC                           -252.504\n",
       "Sample:                               0   HQIC                          -256.579\n",
       "                                  - 226                                         \n",
       "Covariance Type:                    opg                                         \n",
       "==============================================================================\n",
       "                 coef    std err          z      P>|z|      [0.025      0.975]\n",
       "------------------------------------------------------------------------------\n",
       "ar.L1          0.8202      0.024     34.658      0.000       0.774       0.867\n",
       "sigma2         0.0181      0.001     19.381      0.000       0.016       0.020\n",
       "===================================================================================\n",
       "Ljung-Box (L1) (Q):                   0.02   Jarque-Bera (JB):               233.10\n",
       "Prob(Q):                              0.89   Prob(JB):                         0.00\n",
       "Heteroskedasticity (H):               0.37   Skew:                             0.59\n",
       "Prob(H) (two-sided):                  0.00   Kurtosis:                         7.84\n",
       "===================================================================================\n",
       "\n",
       "Warnings:\n",
       "[1] Covariance matrix calculated using the outer product of gradients (complex-step).\n",
       "\"\"\""
      ]
     },
     "execution_count": 4,
     "metadata": {},
     "output_type": "execute_result"
    }
   ],
   "source": [
    "model = ARIMA(temp, order=(1,1,0))\n",
    "result = model.fit()\n",
    "result.summary()"
   ]
  },
  {
   "cell_type": "code",
   "execution_count": 5,
   "id": "cd23c97b",
   "metadata": {},
   "outputs": [
    {
     "data": {
      "text/html": [
       "<div>\n",
       "<style scoped>\n",
       "    .dataframe tbody tr th:only-of-type {\n",
       "        vertical-align: middle;\n",
       "    }\n",
       "\n",
       "    .dataframe tbody tr th {\n",
       "        vertical-align: top;\n",
       "    }\n",
       "\n",
       "    .dataframe thead th {\n",
       "        text-align: right;\n",
       "    }\n",
       "</style>\n",
       "<table border=\"1\" class=\"dataframe\">\n",
       "  <thead>\n",
       "    <tr style=\"text-align: right;\">\n",
       "      <th>Temperature readings</th>\n",
       "      <th>mean</th>\n",
       "      <th>mean_se</th>\n",
       "      <th>mean_ci_lower</th>\n",
       "      <th>mean_ci_upper</th>\n",
       "    </tr>\n",
       "  </thead>\n",
       "  <tbody>\n",
       "    <tr>\n",
       "      <th>226</th>\n",
       "      <td>18.635969</td>\n",
       "      <td>0.134439</td>\n",
       "      <td>18.372473</td>\n",
       "      <td>18.899464</td>\n",
       "    </tr>\n",
       "    <tr>\n",
       "      <th>227</th>\n",
       "      <td>18.501438</td>\n",
       "      <td>0.279198</td>\n",
       "      <td>17.954219</td>\n",
       "      <td>19.048657</td>\n",
       "    </tr>\n",
       "    <tr>\n",
       "      <th>228</th>\n",
       "      <td>18.391102</td>\n",
       "      <td>0.436193</td>\n",
       "      <td>17.536179</td>\n",
       "      <td>19.246024</td>\n",
       "    </tr>\n",
       "    <tr>\n",
       "      <th>229</th>\n",
       "      <td>18.300609</td>\n",
       "      <td>0.598155</td>\n",
       "      <td>17.128246</td>\n",
       "      <td>19.472971</td>\n",
       "    </tr>\n",
       "    <tr>\n",
       "      <th>230</th>\n",
       "      <td>18.226390</td>\n",
       "      <td>0.760795</td>\n",
       "      <td>16.735260</td>\n",
       "      <td>19.717521</td>\n",
       "    </tr>\n",
       "  </tbody>\n",
       "</table>\n",
       "</div>"
      ],
      "text/plain": [
       "Temperature readings       mean   mean_se  mean_ci_lower  mean_ci_upper\n",
       "226                   18.635969  0.134439      18.372473      18.899464\n",
       "227                   18.501438  0.279198      17.954219      19.048657\n",
       "228                   18.391102  0.436193      17.536179      19.246024\n",
       "229                   18.300609  0.598155      17.128246      19.472971\n",
       "230                   18.226390  0.760795      16.735260      19.717521"
      ]
     },
     "execution_count": 5,
     "metadata": {},
     "output_type": "execute_result"
    }
   ],
   "source": [
    "# Dự báo cho 30 khoảng thời gian tiếp theo\n",
    "fc = result.get_forecast(30, alpha=0.05)\n",
    "fc.summary_frame().head()"
   ]
  },
  {
   "cell_type": "code",
   "execution_count": 6,
   "id": "6f8f36fe",
   "metadata": {},
   "outputs": [
    {
     "data": {
      "image/png": "[encoded data removed]",
      "text/plain": [
       "<Figure size 864x360 with 1 Axes>"
      ]
     },
     "metadata": {
      "needs_background": "light"
     },
     "output_type": "display_data"
    }
   ],
   "source": [
    "# Đồ thị giá trị dự báo\n",
    "from statsmodels.graphics.tsaplots import plot_predict\n",
    "\n",
    "fig, ax = plt.subplots(figsize=(12,5))\n",
    "ax.plot(temp[0:],'--',color='red', label = 'origin data')\n",
    "fig = plot_predict(result, start = len(temp),end = len(temp)+30, ax=ax)"
   ]
  },
  {
   "cell_type": "code",
   "execution_count": null,
   "id": "42f78835",
   "metadata": {},
   "outputs": [],
   "source": []
  }
 ],
 "metadata": {
  "kernelspec": {
   "display_name": "Python 3",
   "language": "python",
   "name": "python3"
  },
  "language_info": {
   "codemirror_mode": {
    "name": "ipython",
    "version": 3
   },
   "file_extension": ".py",
   "mimetype": "text/x-python",
   "name": "python",
   "nbconvert_exporter": "python",
   "pygments_lexer": "ipython3",
   "version": "3.8.8"
  }
 },
 "nbformat": 4,
 "nbformat_minor": 5
}
